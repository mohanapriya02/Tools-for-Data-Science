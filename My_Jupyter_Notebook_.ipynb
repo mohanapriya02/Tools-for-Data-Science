{
 "cells": [
  {
   "cell_type": "markdown",
   "metadata": {},
   "source": [
    "# My Jupyter Notebook for Tools for Data Science by IBM "
   ]
  },
  {
   "cell_type": "markdown",
   "metadata": {},
   "source": [
    "*In this notebook, Data Science Tools and Ecosystem are summarized*"
   ]
  },
  {
   "cell_type": "markdown",
   "metadata": {},
   "source": [
    "#### Data Science Languages\n",
    "1. Python\n",
    "2. R\n",
    "3. SQL\n",
    "4. Java\n",
    "5. Julia\n",
    "6. Scala\n",
    "7. Swift\n",
    "8. Javascript"
   ]
  },
  {
   "cell_type": "markdown",
   "metadata": {},
   "source": [
    "#### Data Science Libraries\n",
    "* scikit-learn\n",
    "* Tensorflow\n",
    "* Keras\n",
    "* Matplotlib\n",
    "* PyTorch\n",
    "* Theano\n",
    "* Caffe\n",
    "* NumPy\n",
    "* Pandas\n",
    "* dplyr\n",
    "* Shiny"
   ]
  },
  {
   "cell_type": "markdown",
   "metadata": {},
   "source": [
    "####                                                  Data Science Tools:\n",
    "\n",
    "| Tools        | Usage                                                |\n",
    "| -------------|:----------------------------------------------------:| \n",
    "| Apache Hadoop| Distributed storage and processing of large datasets.| \n",
    "| Tableau      | Data visualization and reporting.                    |  \n",
    "| TensorFlow   | Building and deploying machine learning models.      |\n",
    "| BigML        | Cloud-based machine learning platform.               |\n"
   ]
  },
  {
   "cell_type": "markdown",
   "metadata": {},
   "source": [
    "### Below are few examples of arithmetic expressions"
   ]
  },
  {
   "cell_type": "code",
   "execution_count": 1,
   "metadata": {
    "tags": []
   },
   "outputs": [
    {
     "name": "stdout",
     "output_type": "stream",
     "text": [
      "17\n"
     ]
    }
   ],
   "source": [
    "# simple arithmetic expression to multiply then add numbers\n",
    "a = (4*4)+1\n",
    "print(a)"
   ]
  },
  {
   "cell_type": "code",
   "execution_count": 2,
   "metadata": {
    "tags": []
   },
   "outputs": [
    {
     "name": "stdout",
     "output_type": "stream",
     "text": [
      "Minutes:  200\n",
      "Hours: 3.3333333333333335\n"
     ]
    }
   ],
   "source": [
    "# minutes to hours\n",
    "minutes = 200\n",
    "hours = minutes / 60\n",
    "print('Minutes: ', minutes)\n",
    "print('Hours:', hours)"
   ]
  },
  {
   "cell_type": "markdown",
   "metadata": {},
   "source": [
    "#### Objectives of a Data Scientist:\n",
    "* Extracting, pre-processing and analyzing data to help businesses make better decisions.\n",
    "* Deriving conclusions from data to assist companies in making smarter business decisions.\n",
    "* Developing predictive algorithms that drive revenue and save costs.\n",
    "* Leveraging big data technologies to extract insights from complex datasets"
   ]
  },
  {
   "cell_type": "markdown",
   "metadata": {
    "tags": []
   },
   "source": [
    "#### Author: MOHANAPRIYA"
   ]
  },
  {
   "cell_type": "markdown",
   "metadata": {},
   "source": [
    "GitHub Link: <https://github.com/mohanapriya02/Tools-for-Data-Science.git>"
   ]
  }
 ],
 "metadata": {
  "kernelspec": {
   "display_name": "Python",
   "language": "python",
   "name": "conda-env-python-py"
  },
  "language_info": {
   "codemirror_mode": {
    "name": "ipython",
    "version": 3
   },
   "file_extension": ".py",
   "mimetype": "text/x-python",
   "name": "python",
   "nbconvert_exporter": "python",
   "pygments_lexer": "ipython3",
   "version": "3.7.12"
  }
 },
 "nbformat": 4,
 "nbformat_minor": 4
}
