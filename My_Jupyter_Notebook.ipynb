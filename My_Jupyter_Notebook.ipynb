{
 "cells": [
  {
   "cell_type": "markdown",
   "metadata": {},
   "source": [
    "# My Jupyter Notebook for Tools for Data Science by IBM "
   ]
  },
  {
   "cell_type": "markdown",
   "metadata": {},
   "source": [
    "### MOHANAPRIYA\n",
    "Aspiring Data Scientist"
   ]
  },
  {
   "cell_type": "markdown",
   "metadata": {},
   "source": [
    "*I am an aspiring Data Scientist because I love to do anything that involves numbers. There are many different  domains in which you can pursue Data Science in. I personally find my interest towards Medical sector as of now. It plays crucial role in medical industry through medical imaging. Traditionally, doctors would manually inspect the images and find irregularities within them. With the help of data science, these images can be analyzed by machine that can detect even the slightest abnormalities.  And also I did a project in Brain Tumor Detection using Deep Learning in college.*"
   ]
  },
  {
   "cell_type": "markdown",
   "metadata": {},
   "source": [
    "#### Data Science Languages\n",
    "1. Python\n",
    "2. R\n",
    "3. SQL\n",
    "4. Java\n",
    "5. Julia\n",
    "6. Scala\n",
    "7. Swift\n",
    "8. Javascript"
   ]
  },
  {
   "cell_type": "markdown",
   "metadata": {},
   "source": [
    "#### Data Science Libraries\n",
    "* scikit-learn\n",
    "* Tensorflow\n",
    "* PyTorch\n",
    "* Theano\n",
    "* Caffe\n",
    "* NumPy\n",
    "* Pandas\n",
    "* dplyr\n",
    "* Shiny"
   ]
  },
  {
   "cell_type": "markdown",
   "metadata": {},
   "source": [
    "####                                                  Data Science Tools:\n",
    "\n",
    "| Tools        | Usage                                                |\n",
    "| -------------|:----------------------------------------------------:| \n",
    "| Apache Hadoop| Distributed storage and processing of large datasets.| \n",
    "| Tableau      | Data visualization and reporting.                    |  \n",
    "| TensorFlow   | Building and deploying machine learning models.      |\n",
    "| BigML        | Cloud-based machine learning platform.               |\n"
   ]
  },
  {
   "cell_type": "markdown",
   "metadata": {},
   "source": [
    "#### Arithmetic Expression Examples:\n",
    "* Addition: 10 + 10 = 20\n",
    "* Subtraction: 20 - 10 = 10\n",
    "* Multiplication: 10 * 10 = 100\n",
    "* Division: 20 / 10 = 2"
   ]
  },
  {
   "cell_type": "code",
   "execution_count": 11,
   "metadata": {
    "tags": []
   },
   "outputs": [
    {
     "name": "stdout",
     "output_type": "stream",
     "text": [
      "20\n",
      "400\n"
     ]
    }
   ],
   "source": [
    "a = 10 +10 # addition\n",
    "print(a)\n",
    "\n",
    "b = 20 * 20 # multiplication\n",
    "print(b)"
   ]
  },
  {
   "cell_type": "code",
   "execution_count": 16,
   "metadata": {
    "tags": []
   },
   "outputs": [
    {
     "name": "stdout",
     "output_type": "stream",
     "text": [
      "Minutes:  120\n",
      "Hours: 2\n"
     ]
    }
   ],
   "source": [
    "minutes = 120\n",
    "hours = minutes // 60\n",
    "print('Minutes: ', minutes)\n",
    "print('Hours:', hours)"
   ]
  },
  {
   "cell_type": "markdown",
   "metadata": {},
   "source": [
    "#### Objectives of a Data Scientist:\n",
    "* Extracting, pre-processing and analyzing data to help businesses make better decisions.\n",
    "* Deriving conclusions from data to assist companies in making smarter business decisions.\n",
    "* Developing predictive algorithms that drive revenue and save costs.\n",
    "* Leveraging big data technologies to extract insights from complex datasets"
   ]
  },
  {
   "cell_type": "markdown",
   "metadata": {
    "tags": []
   },
   "source": [
    "#### Author: MOHANAPRIYA"
   ]
  },
  {
   "cell_type": "markdown",
   "metadata": {},
   "source": [
    "GitHub Link: <https://github.com/mohanapriya02/Tools-for-Data-Science.git>"
   ]
  }
 ],
 "metadata": {
  "kernelspec": {
   "display_name": "Python",
   "language": "python",
   "name": "conda-env-python-py"
  },
  "language_info": {
   "codemirror_mode": {
    "name": "ipython",
    "version": 3
   },
   "file_extension": ".py",
   "mimetype": "text/x-python",
   "name": "python",
   "nbconvert_exporter": "python",
   "pygments_lexer": "ipython3",
   "version": "3.7.12"
  }
 },
 "nbformat": 4,
 "nbformat_minor": 4
}
